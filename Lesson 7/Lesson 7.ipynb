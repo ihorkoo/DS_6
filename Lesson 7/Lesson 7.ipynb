{
 "cells": [
  {
   "cell_type": "code",
   "execution_count": null,
   "metadata": {},
   "outputs": [],
   "source": [
    "try:\n",
    "    a = int(input())\n",
    "    b = int(input())\n",
    "\n",
    "    c = a/b\n",
    "except:\n",
    "    c = None\n",
    "    print('Error')\n",
    "\n",
    "print(c)\n",
    "\n",
    "\n",
    "# import math\n",
    "# math.sqrt(c)\n",
    "# ...\n",
    "# ..."
   ]
  },
  {
   "cell_type": "code",
   "execution_count": null,
   "metadata": {},
   "outputs": [],
   "source": [
    "try:\n",
    "    a = int(input())\n",
    "    b = int(input())\n",
    "\n",
    "    c = a/b\n",
    "except Exception as e:\n",
    "    c = None\n",
    "    print(e)\n",
    "\n",
    "print(c)"
   ]
  },
  {
   "cell_type": "code",
   "execution_count": null,
   "metadata": {},
   "outputs": [],
   "source": [
    "try:\n",
    "    a = int(input())\n",
    "    b = int(input())\n",
    "\n",
    "    c = a/b\n",
    "except ZeroDivisionError:\n",
    "    print('Ділити на нуль заборонено')\n",
    "except ValueError:\n",
    "    print('Неправильно введені дані')\n",
    "\n",
    "# ValueError, ZeroDivisionError "
   ]
  },
  {
   "cell_type": "code",
   "execution_count": null,
   "metadata": {},
   "outputs": [],
   "source": [
    "d = {}\n",
    "\n",
    "for i in range(3):\n",
    "    name = input()\n",
    "#     if name in d:\n",
    "#         d[name] += 1\n",
    "#     else:\n",
    "#         d[name] = 1\n",
    "    try:\n",
    "        d[name] += 1\n",
    "    except:\n",
    "        d[name] = 1"
   ]
  },
  {
   "cell_type": "code",
   "execution_count": null,
   "metadata": {},
   "outputs": [],
   "source": [
    "a"
   ]
  },
  {
   "cell_type": "code",
   "execution_count": null,
   "metadata": {},
   "outputs": [],
   "source": [
    "\n",
    "\n",
    "def foo():\n",
    "    print(a)\n",
    "foo()\n",
    "\n"
   ]
  },
  {
   "cell_type": "code",
   "execution_count": null,
   "metadata": {},
   "outputs": [],
   "source": [
    "def foo():\n",
    "    global a\n",
    "    a = 5\n",
    "    \n",
    "foo()\n",
    "print(a)"
   ]
  },
  {
   "cell_type": "code",
   "execution_count": null,
   "metadata": {},
   "outputs": [],
   "source": [
    "a = 5\n",
    "def foo():\n",
    "    print(a)\n",
    "    a = 10\n",
    "    \n",
    "foo()"
   ]
  },
  {
   "cell_type": "code",
   "execution_count": null,
   "metadata": {},
   "outputs": [],
   "source": [
    "print = 10 "
   ]
  },
  {
   "cell_type": "code",
   "execution_count": null,
   "metadata": {},
   "outputs": [],
   "source": [
    "print('aaa')"
   ]
  },
  {
   "cell_type": "code",
   "execution_count": 2,
   "metadata": {},
   "outputs": [
    {
     "name": "stdout",
     "output_type": "stream",
     "text": [
      "4\n",
      "3\n"
     ]
    }
   ],
   "source": [
    "def foo(a, b):\n",
    "    print(a)\n",
    "    print(b)\n",
    "    \n",
    "\n",
    "foo(b=3, a=4)"
   ]
  },
  {
   "cell_type": "code",
   "execution_count": 6,
   "metadata": {},
   "outputs": [
    {
     "name": "stdout",
     "output_type": "stream",
     "text": [
      "(1, 3, 6, 10)\n",
      "{'c': 3, 'q': 4}\n"
     ]
    }
   ],
   "source": [
    "def foo(*a, **b):\n",
    "    print(a)\n",
    "    print(b)\n",
    "    \n",
    "    \n",
    "\n",
    "foo(1, 3, 6, 10, c=3, q=4 )"
   ]
  },
  {
   "cell_type": "code",
   "execution_count": 8,
   "metadata": {},
   "outputs": [
    {
     "name": "stdout",
     "output_type": "stream",
     "text": [
      "100\n"
     ]
    }
   ],
   "source": [
    "def foo(a=None):\n",
    "    print(a)\n",
    "    \n",
    "foo(100)"
   ]
  },
  {
   "cell_type": "code",
   "execution_count": 12,
   "metadata": {},
   "outputs": [
    {
     "name": "stdout",
     "output_type": "stream",
     "text": [
      "100\n"
     ]
    }
   ],
   "source": [
    "def foo(a=None):\n",
    "    return a\n",
    "    \n",
    "c = foo(100)\n",
    "print(c)"
   ]
  },
  {
   "cell_type": "code",
   "execution_count": 9,
   "metadata": {},
   "outputs": [
    {
     "data": {
      "text/plain": [
       "5.0"
      ]
     },
     "execution_count": 9,
     "metadata": {},
     "output_type": "execute_result"
    }
   ],
   "source": [
    "import math\n",
    "c = math.sqrt(25)\n",
    "c"
   ]
  },
  {
   "cell_type": "code",
   "execution_count": 15,
   "metadata": {},
   "outputs": [
    {
     "name": "stdout",
     "output_type": "stream",
     "text": [
      "10 efkd\n",
      "Програма не працює із цими даними\n"
     ]
    }
   ],
   "source": [
    "def input_data():\n",
    "    try:\n",
    "        a, b = input().split()\n",
    "#         c = input().split()\n",
    "#         a = c[0]\n",
    "#         b = c[1]\n",
    "        a, b = int(a), int(b)\n",
    "        return (a, b)\n",
    "    except Exception as e:\n",
    "#         print(e)\n",
    "        return None\n",
    "    \n",
    "def new_power(data_tupl):\n",
    "    res = data_tupl[0] ** data_tupl[1]\n",
    "    return res\n",
    "      \n",
    "def output_result(data_tupl, res):\n",
    "    s = f'Число {data_tupl[0]} в степені {data_tupl[1]} = {res}'\n",
    "    print(s)\n",
    "\n",
    "\n",
    "if __name__ == '__main__':\n",
    "    data = input_data()\n",
    "    if data == None:\n",
    "        print('Програма не працює із цими даними')\n",
    "    else:\n",
    "        res = new_power(data)\n",
    "        output_result(data, res)\n",
    "        "
   ]
  },
  {
   "cell_type": "code",
   "execution_count": 16,
   "metadata": {},
   "outputs": [
    {
     "data": {
      "text/plain": [
       "'__main__'"
      ]
     },
     "execution_count": 16,
     "metadata": {},
     "output_type": "execute_result"
    }
   ],
   "source": [
    "__name__"
   ]
  },
  {
   "cell_type": "markdown",
   "metadata": {},
   "source": [
    "# Перерва до 20:13"
   ]
  },
  {
   "cell_type": "code",
   "execution_count": 18,
   "metadata": {},
   "outputs": [
    {
     "data": {
      "text/plain": [
       "[5.0, 9.539392014169456, 0.0, 2.0, 3.0, 10.0]"
      ]
     },
     "execution_count": 18,
     "metadata": {},
     "output_type": "execute_result"
    }
   ],
   "source": [
    "from math import sqrt\n",
    "\n",
    "l = [25, 91, 0, 4, 9, 100]\n",
    "\n",
    "new_l = []\n",
    "\n",
    "for el in l:\n",
    "    new_l.append(sqrt(el))\n",
    "    \n",
    "new_l"
   ]
  },
  {
   "cell_type": "code",
   "execution_count": 20,
   "metadata": {},
   "outputs": [
    {
     "data": {
      "text/plain": [
       "[5.0, 9.539392014169456, 0.0, 2.0, 3.0, 10.0]"
      ]
     },
     "execution_count": 20,
     "metadata": {},
     "output_type": "execute_result"
    }
   ],
   "source": [
    "list(map(sqrt, l))"
   ]
  },
  {
   "cell_type": "code",
   "execution_count": 26,
   "metadata": {},
   "outputs": [
    {
     "name": "stdout",
     "output_type": "stream",
     "text": [
      "[0.9560342718892494, 2.9478274870593495, 4.056551367726809, 6.084871995158922, 8.83549887812945]\n"
     ]
    }
   ],
   "source": [
    "import random\n",
    "random.seed(2)\n",
    "list_with_numbers = list(range(10))\n",
    "new_list = []\n",
    "\n",
    "for i in list_with_numbers:\n",
    "    if not i%2:\n",
    "        new_list.append(i + random.random())\n",
    "  \n",
    "print(new_list)"
   ]
  },
  {
   "cell_type": "code",
   "execution_count": 27,
   "metadata": {},
   "outputs": [
    {
     "data": {
      "text/plain": [
       "[0.9560342718892494,\n",
       " 2.9478274870593495,\n",
       " 4.056551367726809,\n",
       " 6.084871995158922,\n",
       " 8.83549887812945]"
      ]
     },
     "execution_count": 27,
     "metadata": {},
     "output_type": "execute_result"
    }
   ],
   "source": [
    "import random\n",
    "random.seed(2)\n",
    "\n",
    "list_with_numbers = list(range(10))\n",
    "\n",
    "new_list = [i + random.random() for i in list_with_numbers if not i%2]\n",
    "\n",
    "new_list"
   ]
  },
  {
   "cell_type": "code",
   "execution_count": 33,
   "metadata": {},
   "outputs": [
    {
     "data": {
      "text/plain": [
       "[0.9560342718892494,\n",
       " 2.9478274870593495,\n",
       " 4.056551367726809,\n",
       " 6.084871995158922,\n",
       " 8.83549887812945]"
      ]
     },
     "execution_count": 33,
     "metadata": {},
     "output_type": "execute_result"
    }
   ],
   "source": [
    "def f_random(el):\n",
    "    return el + random.random()\n",
    "\n",
    "def f_filter(el):\n",
    "    if not el%2:\n",
    "        return True\n",
    "    return False\n",
    "\n",
    "import random\n",
    "random.seed(2)\n",
    "\n",
    "list_with_numbers = list(range(10))\n",
    "\n",
    "list(map(f_random, filter(f_filter, list_with_numbers)))"
   ]
  },
  {
   "cell_type": "code",
   "execution_count": 44,
   "metadata": {},
   "outputs": [
    {
     "data": {
      "text/plain": [
       "[0, 2, 4, 6, 8]"
      ]
     },
     "execution_count": 44,
     "metadata": {},
     "output_type": "execute_result"
    }
   ],
   "source": [
    "def f_filter(el):\n",
    "    if not el%2:\n",
    "        return True\n",
    "    return False\n",
    "\n",
    "list(filter(lambda el: not el%2 , list_with_numbers))"
   ]
  },
  {
   "cell_type": "code",
   "execution_count": 38,
   "metadata": {},
   "outputs": [
    {
     "data": {
      "text/plain": [
       "'Непарне'"
      ]
     },
     "execution_count": 38,
     "metadata": {},
     "output_type": "execute_result"
    }
   ],
   "source": [
    "\"Парне\" if not 11%2 else \"Непарне\""
   ]
  },
  {
   "cell_type": "code",
   "execution_count": null,
   "metadata": {},
   "outputs": [],
   "source": [
    "lambda x: x**2"
   ]
  },
  {
   "cell_type": "code",
   "execution_count": 39,
   "metadata": {},
   "outputs": [
    {
     "name": "stdout",
     "output_type": "stream",
     "text": [
      "['I', 'am', 'Python', 'senior', 'pomidor']\n"
     ]
    }
   ],
   "source": [
    "import string\n",
    "\n",
    "sentence = \"I am @ Python @ senior ^ pomidor\"\n",
    "\n",
    "list_with_words = sentence.split()\n",
    "new_list = []\n",
    "\n",
    "for word in list_with_words:\n",
    "    if not word in string.punctuation:\n",
    "        new_list.append(word)\n",
    "\n",
    "print(new_list)"
   ]
  },
  {
   "cell_type": "code",
   "execution_count": 41,
   "metadata": {},
   "outputs": [
    {
     "data": {
      "text/plain": [
       "['I', 'am', 'Python', 'senior', 'pomidor']"
      ]
     },
     "execution_count": 41,
     "metadata": {},
     "output_type": "execute_result"
    }
   ],
   "source": [
    "new_list = [word for word in sentence.split() if not word in string.punctuation]\n",
    "new_list"
   ]
  },
  {
   "cell_type": "code",
   "execution_count": 43,
   "metadata": {},
   "outputs": [
    {
     "data": {
      "text/plain": [
       "['I', 'am', 'Python', 'senior', 'pomidor']"
      ]
     },
     "execution_count": 43,
     "metadata": {},
     "output_type": "execute_result"
    }
   ],
   "source": [
    "list(filter(lambda el:  not el in string.punctuation, sentence.split()))"
   ]
  },
  {
   "cell_type": "markdown",
   "metadata": {},
   "source": [
    "Дано деякий список [(1,1,1), (1,2,3), (-1,-1,7), (-3,-2,8), (0,0,0), (3,-4,-5)]\n",
    "\t\t- відсортуйте даний список по сумі кортежів\n",
    "\t\t- відсортуйте даний список по третіх елементах з кортежів"
   ]
  },
  {
   "cell_type": "code",
   "execution_count": 45,
   "metadata": {},
   "outputs": [
    {
     "data": {
      "text/plain": [
       "[(1, 1, 1), (1, 2, 3), (-1, -1, 7), (-3, -2, 8), (0, 0, 0), (3, -4, -5)]"
      ]
     },
     "execution_count": 45,
     "metadata": {},
     "output_type": "execute_result"
    }
   ],
   "source": [
    "l = [(1,1,1), (1,2,3), (-1,-1,7), (-3,-2,8), (0,0,0), (3,-4,-5)]\n",
    "l"
   ]
  },
  {
   "cell_type": "code",
   "execution_count": 47,
   "metadata": {},
   "outputs": [
    {
     "data": {
      "text/plain": [
       "[(3, -4, -5), (0, 0, 0), (1, 1, 1), (-3, -2, 8), (-1, -1, 7), (1, 2, 3)]"
      ]
     },
     "execution_count": 47,
     "metadata": {},
     "output_type": "execute_result"
    }
   ],
   "source": [
    "sorted(l, key=lambda el: sum(el) )"
   ]
  },
  {
   "cell_type": "code",
   "execution_count": 48,
   "metadata": {},
   "outputs": [
    {
     "data": {
      "text/plain": [
       "[(3, -4, -5), (0, 0, 0), (1, 1, 1), (1, 2, 3), (-1, -1, 7), (-3, -2, 8)]"
      ]
     },
     "execution_count": 48,
     "metadata": {},
     "output_type": "execute_result"
    }
   ],
   "source": [
    "sorted(l, key=lambda el: el[2] )"
   ]
  },
  {
   "cell_type": "code",
   "execution_count": 49,
   "metadata": {},
   "outputs": [
    {
     "data": {
      "text/plain": [
       "[(0, 0, 0), (1, 1, 1), (1, 2, 3), (3, -4, -5), (-1, -1, 7), (-3, -2, 8)]"
      ]
     },
     "execution_count": 49,
     "metadata": {},
     "output_type": "execute_result"
    }
   ],
   "source": [
    "def foo(el):\n",
    "    return max(el)\n",
    "\n",
    "sorted(l, key=foo)"
   ]
  },
  {
   "cell_type": "code",
   "execution_count": 54,
   "metadata": {},
   "outputs": [
    {
     "name": "stdout",
     "output_type": "stream",
     "text": [
      "Введіть координати вашої локації30 70\n",
      "Найближчий магазин SHOP1\n"
     ]
    }
   ],
   "source": [
    "SHOP_1 = (50, 51)\n",
    "SHOP_2 = (47, 39)\n",
    "SHOP_3 = (61, 45)\n",
    "\n",
    "def user_location():\n",
    "    try:\n",
    "        x, y = input('Введіть координати вашої локації').split()\n",
    "        x, y = float(x), float(y)\n",
    "        return (x, y)\n",
    "    except Exception as e:\n",
    "        # print(e)\n",
    "        return None\n",
    "\n",
    "def dist(loc1, loc2):\n",
    "    \n",
    "    x1 = loc1[0]\n",
    "    y1 = loc1[1]\n",
    "    x2 = loc2[0]\n",
    "    y2 = loc2[1]\n",
    "    \n",
    "    c = (x1 - x2)**2 + (y1 - y2) ** 2\n",
    "    \n",
    "    return c \n",
    "\n",
    "def find_min(user_loc):\n",
    "    len_shop1 = dist(SHOP_1, user_loc)\n",
    "    len_shop2 = dist(SHOP_2, user_loc)\n",
    "    len_shop3 = dist(SHOP_3, user_loc)\n",
    "    \n",
    "    if (len_shop1 <= len_shop2) and (len_shop1 <= len_shop3):\n",
    "        return \"SHOP1\"\n",
    "    elif (len_shop2 <= len_shop1) and (len_shop2 <= len_shop3):\n",
    "        return \"SHOP2\"\n",
    "    elif (len_shop3 <= len_shop1) and (len_shop3 <= len_shop2):\n",
    "        return \"SHOP3\"\n",
    "    \n",
    "\n",
    "def show_result(text):\n",
    "    print('Найближчий магазин ' + text)\n",
    "\n",
    "\n",
    "if __name__ == '__main__':\n",
    "    u_l = user_location()\n",
    "    if u_l == None:\n",
    "        print('Не вдалося отримати дані користувача')\n",
    "    else:\n",
    "        \n",
    "        res = find_min(u_l)\n",
    "        show_result(res)\n",
    "\n"
   ]
  },
  {
   "cell_type": "code",
   "execution_count": null,
   "metadata": {},
   "outputs": [],
   "source": []
  },
  {
   "cell_type": "code",
   "execution_count": null,
   "metadata": {},
   "outputs": [],
   "source": []
  }
 ],
 "metadata": {
  "kernelspec": {
   "display_name": "Python 3",
   "language": "python",
   "name": "python3"
  },
  "language_info": {
   "codemirror_mode": {
    "name": "ipython",
    "version": 3
   },
   "file_extension": ".py",
   "mimetype": "text/x-python",
   "name": "python",
   "nbconvert_exporter": "python",
   "pygments_lexer": "ipython3",
   "version": "3.7.6"
  }
 },
 "nbformat": 4,
 "nbformat_minor": 4
}
