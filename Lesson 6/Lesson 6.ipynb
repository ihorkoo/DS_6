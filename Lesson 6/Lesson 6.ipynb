{
 "cells": [
  {
   "cell_type": "code",
   "execution_count": null,
   "metadata": {},
   "outputs": [],
   "source": []
  },
  {
   "cell_type": "code",
   "execution_count": null,
   "metadata": {},
   "outputs": [],
   "source": []
  },
  {
   "cell_type": "code",
   "execution_count": null,
   "metadata": {},
   "outputs": [],
   "source": []
  },
  {
   "cell_type": "markdown",
   "metadata": {},
   "source": [
    "### Task 1"
   ]
  },
  {
   "cell_type": "markdown",
   "metadata": {},
   "source": [
    "Задано ціле число. Перевірити, чи воно парне.\n",
    "\n",
    "*Число називається парним, якщо воно ділиться на 2 націло.*"
   ]
  },
  {
   "cell_type": "code",
   "execution_count": 1,
   "metadata": {},
   "outputs": [
    {
     "name": "stdout",
     "output_type": "stream",
     "text": [
      "4\n",
      "Введене число парне\n"
     ]
    }
   ],
   "source": [
    "n = int(input())\n",
    "\n",
    "if n % 2 == 0:\n",
    "    print(\"Введене число парне\")\n",
    "else:\n",
    "    print(\"Введене число не є парне\")"
   ]
  },
  {
   "cell_type": "markdown",
   "metadata": {},
   "source": [
    "### Task 2"
   ]
  },
  {
   "cell_type": "markdown",
   "metadata": {},
   "source": [
    "Визначити, чи є введений символ голосною літерою. \n",
    "\n",
    "*(Працюємо лише з нижнім регістром латинських символів).*"
   ]
  },
  {
   "cell_type": "code",
   "execution_count": 4,
   "metadata": {},
   "outputs": [
    {
     "name": "stdout",
     "output_type": "stream",
     "text": [
      "Введіть літеру: а\n",
      "Not a vowel\n"
     ]
    }
   ],
   "source": [
    "VOWEL = ('a', 'e', 'i', 'o', 'u')\n",
    "\n",
    "l = input('Введіть літеру: ')\n",
    "\n",
    "if l in VOWEL:\n",
    "    print('Its a vowel')\n",
    "else:\n",
    "    print('Not a vowel')"
   ]
  },
  {
   "cell_type": "markdown",
   "metadata": {},
   "source": [
    "### Task 3"
   ]
  },
  {
   "cell_type": "markdown",
   "metadata": {},
   "source": [
    "Для введених чисел *(якщо користувач вводить нуль, введення завершується)* \n",
    "знайти їх середнє арифметичне."
   ]
  },
  {
   "cell_type": "code",
   "execution_count": 5,
   "metadata": {},
   "outputs": [
    {
     "name": "stdout",
     "output_type": "stream",
     "text": [
      "1\n",
      "2\n",
      "3\n",
      "0\n",
      "AVG =  2.0\n"
     ]
    }
   ],
   "source": [
    "list_with_numbers = []\n",
    "\n",
    "while True:\n",
    "    n = int(input())\n",
    "    if n == 0:\n",
    "        break\n",
    "    list_with_numbers.append(n)\n",
    "    \n",
    "\n",
    "avg = sum(list_with_numbers) / len(list_with_numbers)\n",
    "\n",
    "\n",
    "print('AVG = ', avg)"
   ]
  },
  {
   "cell_type": "markdown",
   "metadata": {},
   "source": [
    "### Task 5"
   ]
  },
  {
   "cell_type": "markdown",
   "metadata": {},
   "source": [
    "Слова вводяться в рядок через пробіл. \n",
    "- Вивести лише унікальні слова.\n",
    "- Порахувати к-сть входжень слова в реченні"
   ]
  },
  {
   "cell_type": "code",
   "execution_count": 8,
   "metadata": {},
   "outputs": [
    {
     "name": "stdout",
     "output_type": "stream",
     "text": [
      "Введіть слова через пробілaaa bbb aaa bbb bbb b bbb\n",
      "Унікальні слова:  {'aaa', 'b', 'bbb'}\n"
     ]
    }
   ],
   "source": [
    "s = input('Введіть слова через пробіл').split()\n",
    "\n",
    "print('Унікальні слова: ', set(s))"
   ]
  },
  {
   "cell_type": "code",
   "execution_count": 9,
   "metadata": {},
   "outputs": [
    {
     "name": "stdout",
     "output_type": "stream",
     "text": [
      "Введіть слова через пробіл: aa bbb aaa bbb bbb b bbb\n",
      "{'aa': 1, 'bbb': 4, 'aaa': 1, 'b': 1}\n"
     ]
    }
   ],
   "source": [
    "s = input('Введіть слова через пробіл: ').split()\n",
    "\n",
    "\n",
    "dict_with_word = {}\n",
    "\n",
    "for w in s:\n",
    "    if w in dict_with_word:\n",
    "        dict_with_word[w] += 1\n",
    "    else:\n",
    "        dict_with_word[w] = 1\n",
    "\n",
    "print(dict_with_word)"
   ]
  },
  {
   "cell_type": "code",
   "execution_count": 11,
   "metadata": {},
   "outputs": [
    {
     "name": "stdout",
     "output_type": "stream",
     "text": [
      "Введіть слова через пробіл: aa bbb aaa bbb bbb b bbb\n",
      "{'aa': 1, 'bbb': 4, 'aaa': 1, 'b': 1}\n"
     ]
    }
   ],
   "source": [
    "s = input('Введіть слова через пробіл: ').split()\n",
    "\n",
    "\n",
    "dict_with_word = {}\n",
    "\n",
    "for w in s:\n",
    "     dict_with_word[w] = dict_with_word.get(w, 0) + 1\n",
    "\n",
    "print(dict_with_word)"
   ]
  },
  {
   "cell_type": "code",
   "execution_count": 20,
   "metadata": {},
   "outputs": [
    {
     "name": "stdout",
     "output_type": "stream",
     "text": [
      "1\n",
      "2\n",
      "3\n"
     ]
    }
   ],
   "source": [
    "for i in [1, 2, 3]:\n",
    "    print(i)"
   ]
  },
  {
   "cell_type": "code",
   "execution_count": 18,
   "metadata": {},
   "outputs": [
    {
     "data": {
      "text/plain": [
       "13"
      ]
     },
     "execution_count": 18,
     "metadata": {},
     "output_type": "execute_result"
    }
   ],
   "source": [
    "# d = {'a' : 1, 'b' : 2}\n",
    "\n",
    "\n",
    "# # d['c']\n",
    "# d.get('c', 13)"
   ]
  },
  {
   "cell_type": "markdown",
   "metadata": {},
   "source": [
    "### Task 6"
   ]
  },
  {
   "cell_type": "markdown",
   "metadata": {},
   "source": [
    "Перевірити, чи число досокнале.\n",
    "\n",
    "*Досконале число — натуральне число, яке дорівнює сумі всіх своїх дільників крім самого числа.*"
   ]
  },
  {
   "cell_type": "code",
   "execution_count": 24,
   "metadata": {},
   "outputs": [
    {
     "name": "stdout",
     "output_type": "stream",
     "text": [
      "28\n",
      "[1, 2, 4, 7, 14]\n",
      "Perfect\n"
     ]
    }
   ],
   "source": [
    "# 28: 1, 2, 4, 7, 14\n",
    "\n",
    "n = int(input())\n",
    "\n",
    "d = []\n",
    "\n",
    "for number in range(1, n):\n",
    "    if n % number == 0:\n",
    "        d.append(number)\n",
    "  \n",
    "print(d)\n",
    "if n == sum(d):\n",
    "    print('Perfect')\n",
    "else:\n",
    "    print('not')"
   ]
  },
  {
   "cell_type": "code",
   "execution_count": 29,
   "metadata": {},
   "outputs": [
    {
     "data": {
      "text/plain": [
       "[1, 3]"
      ]
     },
     "execution_count": 29,
     "metadata": {},
     "output_type": "execute_result"
    }
   ],
   "source": [
    "# range(start, stop, step)\n",
    "\n",
    "\n",
    "list(range(1, 5, 2))\n"
   ]
  },
  {
   "cell_type": "code",
   "execution_count": 26,
   "metadata": {},
   "outputs": [
    {
     "data": {
      "text/plain": [
       "[1, 2, 3, 5]"
      ]
     },
     "execution_count": 26,
     "metadata": {},
     "output_type": "execute_result"
    }
   ],
   "source": [
    "l = [1, 2, 3]\n",
    "\n",
    "l.append(5)\n",
    "\n",
    "l"
   ]
  },
  {
   "cell_type": "markdown",
   "metadata": {},
   "source": [
    "### Task 7"
   ]
  },
  {
   "cell_type": "markdown",
   "metadata": {},
   "source": [
    "Задано список чисел. Вивести числа, що більші та менші за середнє арифметичне."
   ]
  },
  {
   "cell_type": "code",
   "execution_count": 31,
   "metadata": {},
   "outputs": [
    {
     "name": "stdout",
     "output_type": "stream",
     "text": [
      "1\n",
      "4\n",
      "5\n",
      "7\n",
      "9\n",
      "3\n",
      "45\n",
      "56\n",
      "68\n",
      "0\n",
      "[45, 56, 68]\n",
      "[1, 4, 5, 7, 9, 3]\n"
     ]
    }
   ],
   "source": [
    "list_with_numbers = []\n",
    "\n",
    "while True:\n",
    "    n = int(input())\n",
    "    if n == 0:\n",
    "        break\n",
    "    list_with_numbers.append(n)\n",
    "    \n",
    "    \n",
    "avg = sum(list_with_numbers) / len(list_with_numbers)\n",
    "\n",
    "\n",
    "more_avg = []\n",
    "less_avg = []\n",
    "\n",
    "for i in list_with_numbers:\n",
    "    if i > avg:\n",
    "        more_avg.append(i)\n",
    "    elif i < avg:\n",
    "        less_avg.append(i)\n",
    "        \n",
    "        \n",
    "print(more_avg)\n",
    "print(less_avg)\n"
   ]
  },
  {
   "cell_type": "code",
   "execution_count": 33,
   "metadata": {},
   "outputs": [],
   "source": [
    "list_with_numbers.sort()"
   ]
  },
  {
   "cell_type": "code",
   "execution_count": 34,
   "metadata": {},
   "outputs": [
    {
     "data": {
      "text/plain": [
       "[1, 3, 4, 5, 7, 9, 45, 56, 68]"
      ]
     },
     "execution_count": 34,
     "metadata": {},
     "output_type": "execute_result"
    }
   ],
   "source": [
    "list_with_numbers"
   ]
  },
  {
   "cell_type": "code",
   "execution_count": 35,
   "metadata": {},
   "outputs": [
    {
     "data": {
      "text/plain": [
       "[45, 56, 68]"
      ]
     },
     "execution_count": 35,
     "metadata": {},
     "output_type": "execute_result"
    }
   ],
   "source": [
    "more_avg = [i for i in list_with_numbers if i > avg]\n",
    "more_avg"
   ]
  },
  {
   "cell_type": "code",
   "execution_count": null,
   "metadata": {},
   "outputs": [],
   "source": [
    "more_avg = []\n",
    "for i in list_with_numbers:\n",
    "    if i > avg:\n",
    "        more_avg.append(i)"
   ]
  },
  {
   "cell_type": "markdown",
   "metadata": {},
   "source": [
    "# Перерва до 20:10"
   ]
  },
  {
   "cell_type": "markdown",
   "metadata": {},
   "source": [
    "### Task 8"
   ]
  },
  {
   "cell_type": "markdown",
   "metadata": {},
   "source": [
    "Вивести N-елементів послідовності чисел Фібоначчі.\n",
    "\n",
    "*Послідовності Фібоначчі це:*\n",
    "- *послідовність, де кожен наступний елемент дорівнює сумі двох попередніх;*\n",
    "- *перший та другий член послідовності дорівнює 1;*\n",
    "\n",
    "*Приклад: 1, 1, 2, 3, 5, 8, 13, 21, 34, 55 ...*"
   ]
  },
  {
   "cell_type": "code",
   "execution_count": 40,
   "metadata": {},
   "outputs": [
    {
     "name": "stdout",
     "output_type": "stream",
     "text": [
      "10\n",
      "1\n",
      "1\n",
      "2\n",
      "3\n",
      "5\n",
      "8\n",
      "13\n",
      "21\n",
      "34\n",
      "55\n"
     ]
    }
   ],
   "source": [
    "n = int(input())\n",
    "\n",
    "a = 1\n",
    "b = 1\n",
    "\n",
    "for _ in range(n):\n",
    "    print(a)\n",
    "    # a, b = b, a + b\n",
    "    c = a\n",
    "    a = b\n",
    "    b = b + c"
   ]
  },
  {
   "cell_type": "markdown",
   "metadata": {},
   "source": [
    "### Task 9"
   ]
  },
  {
   "cell_type": "markdown",
   "metadata": {},
   "source": [
    "Перевірити, чи натуральне число N є просте.\n",
    "\n",
    "*Число називається просте - якщо кількість його дільників становить два:одиниця і саме число.*"
   ]
  },
  {
   "cell_type": "code",
   "execution_count": 45,
   "metadata": {},
   "outputs": [
    {
     "name": "stdout",
     "output_type": "stream",
     "text": [
      "6\n",
      "Not simple\n"
     ]
    }
   ],
   "source": [
    "N = int(input())\n",
    "\n",
    "for i in range(2, N):\n",
    "    if N % i == 0:\n",
    "        print('Not simple')\n",
    "        break\n",
    "else:\n",
    "    print('Simple')\n",
    "    "
   ]
  },
  {
   "cell_type": "markdown",
   "metadata": {},
   "source": [
    "### Task 10"
   ]
  },
  {
   "cell_type": "markdown",
   "metadata": {},
   "source": [
    "На карантині я розпочав бігові тренування. В перший день пробіг 500 метрів.\n",
    "    Кожний наступний день дистанцію збільшую на 10%. Відомо, що карантин триває 30 днів.\n",
    "    \n",
    "        - Яку дистанцію я пробіжу в останній день карантину?\n",
    "        \n",
    "        - Скільки днів потрібно бігати, щоб сумарна дистанція за всі дні \n",
    "            перевищила довжину марафону (42 км)?"
   ]
  },
  {
   "cell_type": "code",
   "execution_count": null,
   "metadata": {},
   "outputs": [],
   "source": []
  },
  {
   "cell_type": "markdown",
   "metadata": {},
   "source": [
    "### Task 11"
   ]
  },
  {
   "cell_type": "code",
   "execution_count": 55,
   "metadata": {},
   "outputs": [
    {
     "name": "stdout",
     "output_type": "stream",
     "text": [
      "Введіть своє ім'я: u\n",
      "Вгадайте число від 1 до 10. У вас три спроби.\n",
      "Введіть число:2\n",
      "Помилка. Ваша спроба невірна.\n",
      "Підказка: задумане число більше 2.\n",
      "Введіть число:2\n",
      "Помилка. Ваша спроба невірна.\n",
      "Підказка: задумане число більше 2.\n",
      "Введіть число:2\n",
      "Помилка. Ваша спроба невірна.\n",
      "Підказка: задумане число більше 2.\n",
      "u, гра закінчена.\n",
      "Правильна відповідь - 3\n"
     ]
    }
   ],
   "source": [
    "from random import randint\n",
    "\n",
    "N = randint(1, 10)\n",
    "\n",
    "\n",
    "name = input(\"Введіть своє ім'я: \")\n",
    "\n",
    "print(\"Вгадайте число від 1 до 10. У вас три спроби.\")\n",
    "\n",
    "for i in range(3):\n",
    "    my_n = int(input('Введіть число:'))\n",
    "    \n",
    "    if my_n == N:\n",
    "        print('Ви відгадали')\n",
    "        break\n",
    "    \n",
    "    else:\n",
    "        print(\"Помилка. Ваша спроба невірна.\")\n",
    "        if my_n > N:\n",
    "            print(f\"Підказка: задумане число менше {my_n}.\")\n",
    "        else:\n",
    "            print(f\"Підказка: задумане число більше {my_n}.\")\n",
    "            \n",
    "else:\n",
    "    print(f'{name}, гра закінчена.')\n",
    "    print(f'Правильна відповідь - {N}')\n",
    "            "
   ]
  },
  {
   "cell_type": "code",
   "execution_count": 57,
   "metadata": {},
   "outputs": [
    {
     "name": "stdout",
     "output_type": "stream",
     "text": [
      "Хто перетинає кордон:A\n",
      "Хто перетинає кордон:B\n",
      "Хто перетинає кордон:A\n",
      "Хто перетинає кордон:A\n",
      "Хто перетинає кордон:B\n",
      "Хто перетинає кордон:C\n",
      "Хто перетинає кордон:END\n",
      "A - 3\n",
      "B - 2\n",
      "C - 1\n"
     ]
    }
   ],
   "source": [
    "people = {}\n",
    "\n",
    "while True:\n",
    "    name = input('Хто перетинає кордон:')\n",
    "    \n",
    "    if name == 'END':\n",
    "        break\n",
    "     \n",
    "    people[name] = people.get(name, 0) + 1\n",
    "        \n",
    "        \n",
    "        \n",
    "for k, v in people.items():\n",
    "    print(f'{k} - {v}')\n",
    "    \n",
    "    \n",
    "    "
   ]
  },
  {
   "cell_type": "code",
   "execution_count": 59,
   "metadata": {},
   "outputs": [
    {
     "name": "stdout",
     "output_type": "stream",
     "text": [
      "Хто перетинає кордон:A\n",
      "Хто перетинає кордон:A\n",
      "Хто перетинає кордон:A\n",
      "Хто перетинає кордон:B\n",
      "Хто перетинає кордон:A\n",
      "Хто перетинає кордон:B\n",
      "Хто перетинає кордон:C\n",
      "Хто перетинає кордон:Z\n",
      "Хто перетинає кордон:END\n",
      "['A', datetime.datetime(2021, 3, 18, 21, 0, 29, 944542)]\n",
      "['A', datetime.datetime(2021, 3, 18, 21, 0, 30, 532161)]\n",
      "['A', datetime.datetime(2021, 3, 18, 21, 0, 31, 89470)]\n",
      "['B', datetime.datetime(2021, 3, 18, 21, 0, 32, 276660)]\n",
      "['A', datetime.datetime(2021, 3, 18, 21, 0, 32, 734631)]\n",
      "['B', datetime.datetime(2021, 3, 18, 21, 0, 33, 966642)]\n",
      "['C', datetime.datetime(2021, 3, 18, 21, 0, 35, 773168)]\n",
      "['Z', datetime.datetime(2021, 3, 18, 21, 0, 36, 807599)]\n"
     ]
    }
   ],
   "source": [
    "from datetime import datetime\n",
    "\n",
    "\n",
    "people = []\n",
    "\n",
    "while True:\n",
    "    name = input('Хто перетинає кордон:')\n",
    "    \n",
    "    if name == 'END':\n",
    "        break\n",
    "    \n",
    "    info = [name, datetime.now()]\n",
    "    people.append(info)\n",
    "        \n",
    "        \n",
    "        \n",
    "for k in people:\n",
    "    print(k)"
   ]
  },
  {
   "cell_type": "code",
   "execution_count": 58,
   "metadata": {},
   "outputs": [
    {
     "data": {
      "text/plain": [
       "datetime.datetime(2021, 3, 18, 20, 59, 30, 573582)"
      ]
     },
     "execution_count": 58,
     "metadata": {},
     "output_type": "execute_result"
    }
   ],
   "source": []
  },
  {
   "cell_type": "code",
   "execution_count": null,
   "metadata": {},
   "outputs": [],
   "source": []
  }
 ],
 "metadata": {
  "kernelspec": {
   "display_name": "Python 3",
   "language": "python",
   "name": "python3"
  },
  "language_info": {
   "codemirror_mode": {
    "name": "ipython",
    "version": 3
   },
   "file_extension": ".py",
   "mimetype": "text/x-python",
   "name": "python",
   "nbconvert_exporter": "python",
   "pygments_lexer": "ipython3",
   "version": "3.7.6"
  }
 },
 "nbformat": 4,
 "nbformat_minor": 2
}
