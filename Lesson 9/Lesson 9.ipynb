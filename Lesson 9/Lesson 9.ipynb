{
 "cells": [
  {
   "cell_type": "code",
   "execution_count": 2,
   "metadata": {},
   "outputs": [
    {
     "data": {
      "text/plain": [
       "1617122062.165147"
      ]
     },
     "execution_count": 2,
     "metadata": {},
     "output_type": "execute_result"
    }
   ],
   "source": [
    "import time\n",
    "time.time() #час зараз\n",
    "\n",
    "#1970 р "
   ]
  },
  {
   "cell_type": "code",
   "execution_count": 3,
   "metadata": {},
   "outputs": [
    {
     "name": "stdout",
     "output_type": "stream",
     "text": [
      "Програма виконувалась 5.157578706741333\n"
     ]
    }
   ],
   "source": [
    "start = time.time()\n",
    "l = [i for i in range(99999999)]\n",
    "stop = time.time()\n",
    "\n",
    "print(f\"Програма виконувалась {stop - start}\")"
   ]
  },
  {
   "cell_type": "code",
   "execution_count": 4,
   "metadata": {},
   "outputs": [
    {
     "name": "stdout",
     "output_type": "stream",
     "text": [
      "Програма виконувалась 13.970353841781616\n"
     ]
    }
   ],
   "source": [
    "start = time.time()\n",
    "l = []\n",
    "for i in range(99999999):\n",
    "    l.append(i)\n",
    "stop = time.time()\n",
    "print(f\"Програма виконувалась {stop - start}\")"
   ]
  },
  {
   "cell_type": "markdown",
   "metadata": {},
   "source": [
    "import datetime"
   ]
  },
  {
   "cell_type": "markdown",
   "metadata": {},
   "source": [
    "datetime:\n",
    "    - date\n",
    "    - datetime\n",
    "    - time\n",
    "    - deltatime\n",
    "    ..."
   ]
  },
  {
   "cell_type": "code",
   "execution_count": 7,
   "metadata": {},
   "outputs": [],
   "source": [
    "from datetime import datetime"
   ]
  },
  {
   "cell_type": "code",
   "execution_count": 9,
   "metadata": {},
   "outputs": [
    {
     "data": {
      "text/plain": [
       "datetime.datetime(2021, 3, 30, 19, 38, 58, 714675)"
      ]
     },
     "execution_count": 9,
     "metadata": {},
     "output_type": "execute_result"
    }
   ],
   "source": [
    "d = datetime.today()\n",
    "d"
   ]
  },
  {
   "cell_type": "code",
   "execution_count": 11,
   "metadata": {},
   "outputs": [
    {
     "data": {
      "text/plain": [
       "3"
      ]
     },
     "execution_count": 11,
     "metadata": {},
     "output_type": "execute_result"
    }
   ],
   "source": [
    "d.month"
   ]
  },
  {
   "cell_type": "code",
   "execution_count": 12,
   "metadata": {},
   "outputs": [
    {
     "data": {
      "text/plain": [
       "datetime.datetime(2021, 12, 12, 0, 0)"
      ]
     },
     "execution_count": 12,
     "metadata": {},
     "output_type": "execute_result"
    }
   ],
   "source": [
    "datetime(2021, 12,12)"
   ]
  },
  {
   "cell_type": "code",
   "execution_count": 14,
   "metadata": {},
   "outputs": [
    {
     "data": {
      "text/plain": [
       "'2021-03-30T19:38:58.714675'"
      ]
     },
     "execution_count": 14,
     "metadata": {},
     "output_type": "execute_result"
    }
   ],
   "source": [
    "datetime.isoformat(d)"
   ]
  },
  {
   "cell_type": "code",
   "execution_count": 15,
   "metadata": {},
   "outputs": [
    {
     "data": {
      "text/plain": [
       "datetime.timedelta(days=275, seconds=15381, microseconds=488259)"
      ]
     },
     "execution_count": 15,
     "metadata": {},
     "output_type": "execute_result"
    }
   ],
   "source": [
    "d1 = datetime.today()\n",
    "d2 = datetime(2021, 12, 31)\n",
    "\n",
    "d2 - d1"
   ]
  },
  {
   "cell_type": "code",
   "execution_count": 23,
   "metadata": {},
   "outputs": [
    {
     "name": "stdout",
     "output_type": "stream",
     "text": [
      "Введіть дату народження у форматі дд/мм/рррр: 10/10/2010\n",
      "К-сть днів між датами становить 3824\n"
     ]
    }
   ],
   "source": [
    "from datetime import datetime\n",
    "\n",
    "b = input('Введіть дату народження у форматі дд/мм/рррр: ')\n",
    "\n",
    "b = datetime.strptime(b, '%d/%m/%Y')\n",
    "\n",
    "delta = datetime.today() - b\n",
    "\n",
    "print(f'К-сть днів між датами становить {delta.days}')"
   ]
  },
  {
   "cell_type": "code",
   "execution_count": 22,
   "metadata": {},
   "outputs": [
    {
     "data": {
      "text/plain": [
       "3824"
      ]
     },
     "execution_count": 22,
     "metadata": {},
     "output_type": "execute_result"
    }
   ],
   "source": [
    "delta.days"
   ]
  },
  {
   "cell_type": "markdown",
   "metadata": {},
   "source": [
    "# Перерва до 20:10 \n"
   ]
  },
  {
   "cell_type": "markdown",
   "metadata": {},
   "source": [
    "!pip install requests"
   ]
  },
  {
   "cell_type": "code",
   "execution_count": 24,
   "metadata": {},
   "outputs": [],
   "source": [
    "import requests"
   ]
  },
  {
   "cell_type": "code",
   "execution_count": 29,
   "metadata": {},
   "outputs": [],
   "source": [
    "r = requests.get('https://bank.gov.ua/NBUStatService/v1/statdirectory/exchange?json').json()\n"
   ]
  },
  {
   "cell_type": "markdown",
   "metadata": {},
   "source": [
    "1. Виведемо всі назви валют\n",
    "2. Вив курс долара та Євро\n",
    "3. Програма для курсу \n",
    "3. Отримаємо курс на вчора\n",
    "4. Отримаємо курс за місяць \n",
    "5. Порахуємо сердній курс долара за місяць"
   ]
  },
  {
   "cell_type": "code",
   "execution_count": 34,
   "metadata": {},
   "outputs": [
    {
     "name": "stdout",
     "output_type": "stream",
     "text": [
      "Австралійський долар\n",
      "Канадський долар\n",
      "Юань Женьміньбі\n",
      "Куна\n",
      "Чеська крона\n",
      "Данська крона\n",
      "Гонконгівський долар\n",
      "Форинт\n",
      "Індійська рупія\n",
      "Рупія\n",
      "Новий ізраїльський шекель\n",
      "Єна\n",
      "Теньге\n",
      "Вона\n",
      "Мексиканське песо\n",
      "Молдовський лей\n",
      "Новозеландський долар\n",
      "Норвезька крона\n",
      "Російський рубль\n",
      "Саудівський ріял\n",
      "Сінгапурський долар\n",
      "Ренд\n",
      "Шведська крона\n",
      "Швейцарський франк\n",
      "Єгипетський фунт\n",
      "Фунт стерлінгів\n",
      "Долар США\n",
      "Білоруський рубль\n",
      "Румунський лей\n",
      "Турецька ліра\n",
      "СПЗ (спеціальні права запозичення)\n",
      "Болгарський лев\n",
      "Євро\n",
      "Злотий\n",
      "Алжирський динар\n",
      "Така\n",
      "Вірменський драм\n",
      "Іранський ріал\n",
      "Іракський динар\n",
      "Сом\n",
      "Ліванський фунт\n",
      "Лівійський динар\n",
      "Малайзійський ринггіт\n",
      "Марокканський дирхам\n",
      "Донг\n",
      "Бат\n",
      "Дирхам ОАЕ\n",
      "Туніський динар\n",
      "Узбецький сум\n",
      "Туркменський новий манат\n",
      "Сербський динар\n",
      "Азербайджанський манат\n",
      "Сомоні\n",
      "Ларі\n",
      "Бразильський реал\n",
      "Золото\n",
      "Срібло\n",
      "Платина\n",
      "Паладій\n"
     ]
    }
   ],
   "source": [
    "# Назви всіх валют\n",
    "for el in r:\n",
    "    print(el['txt'])"
   ]
  },
  {
   "cell_type": "code",
   "execution_count": 37,
   "metadata": {},
   "outputs": [
    {
     "name": "stdout",
     "output_type": "stream",
     "text": [
      "Курс Долар США становить 27.8852\n",
      "Курс Євро становить 32.7233\n"
     ]
    }
   ],
   "source": [
    "for el in r:\n",
    "    if el['cc'] == 'EUR' or el['cc'] == 'USD':\n",
    "        print(f'Курс {el[\"txt\"]} становить {el[\"rate\"]}')\n",
    "        "
   ]
  },
  {
   "cell_type": "code",
   "execution_count": 41,
   "metadata": {},
   "outputs": [
    {
     "name": "stdout",
     "output_type": "stream",
     "text": [
      "Введіть код валюти: USD\n",
      "Курс Долар США становить 27.8852\n"
     ]
    }
   ],
   "source": [
    "rate = input('Введіть код валюти: ')\n",
    "\n",
    "for el in r:\n",
    "    if el['cc'] == rate:\n",
    "        print(f'Курс {el[\"txt\"]} становить {el[\"rate\"]}')\n",
    "        break\n",
    "else:\n",
    "    print('Дане значення відстунє в системі')"
   ]
  },
  {
   "cell_type": "code",
   "execution_count": 47,
   "metadata": {},
   "outputs": [
    {
     "name": "stdout",
     "output_type": "stream",
     "text": [
      "2021-03-29 20:42:04.161712\n",
      "[{'r030': 978, 'txt': 'Євро', 'rate': 32.9532, 'cc': 'EUR', 'exchangedate': '29.03.2021'}]\n"
     ]
    }
   ],
   "source": [
    "from datetime import datetime, timedelta\n",
    "\n",
    "import requests\n",
    "\n",
    "yes = datetime.today() - timedelta(days=1)\n",
    "print(yes)\n",
    "\n",
    "param = {'date' : yes.strftime('%Y%m%d'), 'valcode' : 'EUR'}\n",
    "r = requests.get('https://bank.gov.ua/NBUStatService/v1/statdirectory/exchange?json', params=param)\n",
    "\n",
    "if r.status_code == 200:\n",
    "    print(r.json())\n",
    "    "
   ]
  },
  {
   "cell_type": "code",
   "execution_count": 52,
   "metadata": {},
   "outputs": [
    {
     "name": "stdout",
     "output_type": "stream",
     "text": [
      "Введіть к-сть днів для аналітики: 1\n"
     ]
    }
   ],
   "source": [
    "from datetime import datetime, timedelta\n",
    "\n",
    "import requests\n",
    "\n",
    "BASE = {} \n",
    "\n",
    "def con_to_api(date):\n",
    "    param = {'date' : date.strftime('%Y%m%d')}\n",
    "    r = requests.get('https://bank.gov.ua/NBUStatService/v1/statdirectory/exchange?json', params=param)\n",
    "    if r.status_code == 200:\n",
    "        return r.json()\n",
    "    return None\n",
    "\n",
    "def union_info(qty):\n",
    "    \n",
    "    date = datetime.today()\n",
    "    \n",
    "    for i in range(qty):\n",
    "        date = date - timedelta(days=1)\n",
    "        r = con_to_api(date)\n",
    "        BASE[date] = r\n",
    "\n",
    "if __name__ == '__main__':\n",
    "    qty = int(input('Введіть к-сть днів для аналітики: '))\n",
    "    union_info(qty)\n",
    "#     print(BASE)\n",
    "    \n",
    "    \n",
    "    "
   ]
  },
  {
   "cell_type": "code",
   "execution_count": 56,
   "metadata": {},
   "outputs": [
    {
     "name": "stdout",
     "output_type": "stream",
     "text": [
      "Введіть к-сть днів для аналітики: 10\n",
      "Середнє значення USD за останні 10 днів становить = 27.82485\n"
     ]
    }
   ],
   "source": [
    "from datetime import datetime, timedelta\n",
    "from statistics import median, mean\n",
    "\n",
    "import requests\n",
    "\n",
    "BASE = [] \n",
    "\n",
    "def con_to_api(date):\n",
    "    param = {'date' : date.strftime('%Y%m%d'), 'valcode' : 'USD'}\n",
    "    r = requests.get('https://bank.gov.ua/NBUStatService/v1/statdirectory/exchange?json', params=param)\n",
    "    if r.status_code == 200:\n",
    "        return r.json()[0]['rate']\n",
    "    return None\n",
    "\n",
    "\n",
    "def union_info(qty):\n",
    "    \n",
    "    date = datetime.today()\n",
    "    \n",
    "    for i in range(qty):\n",
    "        date = date - timedelta(days=1)\n",
    "        rate = con_to_api(date)\n",
    "        BASE.append(rate)\n",
    "\n",
    "\n",
    "if __name__ == '__main__':\n",
    "    qty = int(input('Введіть к-сть днів для аналітики: '))\n",
    "    union_info(qty)\n",
    "    print(f\"Середнє значення USD за останні {qty} днів становить = {mean(BASE)}\")\n"
   ]
  },
  {
   "cell_type": "code",
   "execution_count": null,
   "metadata": {},
   "outputs": [],
   "source": []
  }
 ],
 "metadata": {
  "kernelspec": {
   "display_name": "Python 3",
   "language": "python",
   "name": "python3"
  },
  "language_info": {
   "codemirror_mode": {
    "name": "ipython",
    "version": 3
   },
   "file_extension": ".py",
   "mimetype": "text/x-python",
   "name": "python",
   "nbconvert_exporter": "python",
   "pygments_lexer": "ipython3",
   "version": "3.7.6"
  }
 },
 "nbformat": 4,
 "nbformat_minor": 4
}
