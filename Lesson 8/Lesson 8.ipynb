{
 "cells": [
  {
   "cell_type": "code",
   "execution_count": 1,
   "metadata": {},
   "outputs": [],
   "source": [
    "f = open('new_file.txt', 'w')\n",
    "\n",
    "f.close()"
   ]
  },
  {
   "cell_type": "code",
   "execution_count": 3,
   "metadata": {},
   "outputs": [
    {
     "name": "stdout",
     "output_type": "stream",
     "text": [
      "Hello world :)\n",
      "Привіт!!!\n"
     ]
    }
   ],
   "source": [
    "f = open('new_file.txt', encoding='UTF-8')\n",
    "print(f.read())\n",
    "f.close()"
   ]
  },
  {
   "cell_type": "code",
   "execution_count": 4,
   "metadata": {},
   "outputs": [
    {
     "name": "stdout",
     "output_type": "stream",
     "text": [
      "Hello\n"
     ]
    }
   ],
   "source": [
    "f = open('new_file.txt', encoding='UTF-8')\n",
    "print(f.read(5))\n",
    "f.close()"
   ]
  },
  {
   "cell_type": "code",
   "execution_count": 6,
   "metadata": {},
   "outputs": [
    {
     "name": "stdout",
     "output_type": "stream",
     "text": [
      "Hello world :)\n",
      "\n",
      "Привіт!!!\n"
     ]
    }
   ],
   "source": [
    "f = open('new_file.txt', encoding='UTF-8')\n",
    "print(f.readline())\n",
    "print(f.readline())\n",
    "f.close()"
   ]
  },
  {
   "cell_type": "code",
   "execution_count": 7,
   "metadata": {},
   "outputs": [
    {
     "name": "stdout",
     "output_type": "stream",
     "text": [
      "['Hello world :)\\n', 'Привіт!!!']\n"
     ]
    }
   ],
   "source": [
    "f = open('new_file.txt', encoding='UTF-8')\n",
    "print(f.readlines())\n",
    "f.close()"
   ]
  },
  {
   "cell_type": "code",
   "execution_count": 8,
   "metadata": {},
   "outputs": [
    {
     "name": "stdout",
     "output_type": "stream",
     "text": [
      "Hello world :)\n",
      "\n",
      "Привіт!!!\n"
     ]
    }
   ],
   "source": [
    "f = open('new_file.txt', encoding='UTF-8')\n",
    "for string in f:\n",
    "    print(string)\n",
    "\n",
    "f.close()"
   ]
  },
  {
   "cell_type": "code",
   "execution_count": 10,
   "metadata": {},
   "outputs": [],
   "source": [
    "f = open('new_file.txt', 'r', encoding='UTF-8')\n",
    "\n",
    "f.write('new info')\n",
    "\n",
    "f.close()"
   ]
  },
  {
   "cell_type": "code",
   "execution_count": 12,
   "metadata": {},
   "outputs": [],
   "source": [
    "f = open('new_file.txt', 'w', encoding='UTF-8')\n",
    "\n",
    "list_with_strings = ['aaa\\n', 'bbb']\n",
    "f.writelines(list_with_strings)\n",
    "\n",
    "f.close()"
   ]
  },
  {
   "cell_type": "code",
   "execution_count": 13,
   "metadata": {},
   "outputs": [
    {
     "data": {
      "text/plain": [
       "'aaa\\nb'"
      ]
     },
     "execution_count": 13,
     "metadata": {},
     "output_type": "execute_result"
    }
   ],
   "source": [
    "f = open('new_file.txt', encoding='UTF-8')\n",
    "f.read(5)\n"
   ]
  },
  {
   "cell_type": "code",
   "execution_count": 14,
   "metadata": {},
   "outputs": [
    {
     "data": {
      "text/plain": [
       "6"
      ]
     },
     "execution_count": 14,
     "metadata": {},
     "output_type": "execute_result"
    }
   ],
   "source": [
    "f.tell()"
   ]
  },
  {
   "cell_type": "code",
   "execution_count": 15,
   "metadata": {},
   "outputs": [
    {
     "data": {
      "text/plain": [
       "0"
      ]
     },
     "execution_count": 15,
     "metadata": {},
     "output_type": "execute_result"
    }
   ],
   "source": [
    "f.seek(0)"
   ]
  },
  {
   "cell_type": "code",
   "execution_count": 16,
   "metadata": {},
   "outputs": [
    {
     "data": {
      "text/plain": [
       "'aaa'"
      ]
     },
     "execution_count": 16,
     "metadata": {},
     "output_type": "execute_result"
    }
   ],
   "source": [
    "f.read(3)"
   ]
  },
  {
   "cell_type": "code",
   "execution_count": 17,
   "metadata": {},
   "outputs": [
    {
     "data": {
      "text/plain": [
       "3"
      ]
     },
     "execution_count": 17,
     "metadata": {},
     "output_type": "execute_result"
    }
   ],
   "source": [
    "f.tell()"
   ]
  },
  {
   "cell_type": "code",
   "execution_count": 18,
   "metadata": {},
   "outputs": [
    {
     "data": {
      "text/plain": [
       "'\\nbb'"
      ]
     },
     "execution_count": 18,
     "metadata": {},
     "output_type": "execute_result"
    }
   ],
   "source": [
    "f.read(3)"
   ]
  },
  {
   "cell_type": "code",
   "execution_count": 19,
   "metadata": {},
   "outputs": [],
   "source": [
    "f.close()"
   ]
  },
  {
   "cell_type": "code",
   "execution_count": 21,
   "metadata": {},
   "outputs": [
    {
     "name": "stdout",
     "output_type": "stream",
     "text": [
      "aaa\n",
      "bbbggg\n",
      "\n"
     ]
    }
   ],
   "source": [
    "with open('new_file.txt', encoding='UTF-8') as f:\n",
    "    print(f.read())"
   ]
  },
  {
   "cell_type": "code",
   "execution_count": 22,
   "metadata": {},
   "outputs": [],
   "source": [
    "f = open('new_file', 'w')\n",
    "f.close()"
   ]
  },
  {
   "cell_type": "markdown",
   "metadata": {},
   "source": [
    "# Перерва до 20:06"
   ]
  },
  {
   "cell_type": "code",
   "execution_count": 23,
   "metadata": {},
   "outputs": [],
   "source": [
    "import pickle \n",
    "\n",
    "new_dict = {\"a\" : 20,\n",
    "            \"b\" : 30,\n",
    "            \"c\" : [10,20]}\n",
    "\n",
    "\n",
    "with open('db.pickle', 'wb') as f:     #pickle працює в бінарному режимі \n",
    "    pickle.dump(new_dict, f)  "
   ]
  },
  {
   "cell_type": "code",
   "execution_count": 24,
   "metadata": {},
   "outputs": [
    {
     "data": {
      "text/plain": [
       "{'a': 20, 'b': 30, 'c': [10, 20]}"
      ]
     },
     "execution_count": 24,
     "metadata": {},
     "output_type": "execute_result"
    }
   ],
   "source": [
    "with open('db.pickle', 'rb') as f:     #pickle працює в бінарному режимі \n",
    "    res = pickle.load(f) \n",
    "    \n",
    "res"
   ]
  },
  {
   "cell_type": "code",
   "execution_count": 27,
   "metadata": {},
   "outputs": [
    {
     "data": {
      "text/plain": [
       "'C:\\\\Users\\\\i.betlei\\\\Main-Academy\\\\DS_6'"
      ]
     },
     "execution_count": 27,
     "metadata": {},
     "output_type": "execute_result"
    }
   ],
   "source": [
    "%pwd"
   ]
  },
  {
   "cell_type": "code",
   "execution_count": 28,
   "metadata": {},
   "outputs": [
    {
     "name": "stdout",
     "output_type": "stream",
     "text": [
      "aaa\n",
      "bbbggg\n",
      "\n"
     ]
    }
   ],
   "source": [
    "with open('new_file.txt') as f:\n",
    "    print(f.read())"
   ]
  },
  {
   "cell_type": "code",
   "execution_count": 30,
   "metadata": {},
   "outputs": [
    {
     "ename": "ValueError",
     "evalue": "I/O operation on closed file.",
     "output_type": "error",
     "traceback": [
      "\u001b[1;31m---------------------------------------------------------------------------\u001b[0m",
      "\u001b[1;31mValueError\u001b[0m                                Traceback (most recent call last)",
      "\u001b[1;32m<ipython-input-30-571e9fb02258>\u001b[0m in \u001b[0;36m<module>\u001b[1;34m\u001b[0m\n\u001b[1;32m----> 1\u001b[1;33m \u001b[0mf\u001b[0m\u001b[1;33m.\u001b[0m\u001b[0mread\u001b[0m\u001b[1;33m(\u001b[0m\u001b[1;33m)\u001b[0m\u001b[1;33m\u001b[0m\u001b[1;33m\u001b[0m\u001b[0m\n\u001b[0m",
      "\u001b[1;31mValueError\u001b[0m: I/O operation on closed file."
     ]
    }
   ],
   "source": []
  },
  {
   "cell_type": "code",
   "execution_count": 31,
   "metadata": {},
   "outputs": [],
   "source": [
    "\n",
    "#вигружаємо структуру в файл\n",
    "import json \n",
    "\n",
    "new_dict = {\"a\" : 20,\n",
    "            \"b\" : 30,\n",
    "            \"c\" : [10,20]}\n",
    "\n",
    "\n",
    "with open('db.json', 'w') as f:     \n",
    "    json.dump(new_dict, f) "
   ]
  },
  {
   "cell_type": "code",
   "execution_count": 32,
   "metadata": {},
   "outputs": [
    {
     "name": "stdout",
     "output_type": "stream",
     "text": [
      "new_file.jpeg\n"
     ]
    }
   ],
   "source": [
    "name_file = input()\n",
    "try:\n",
    "    open(name_file, 'w')\n",
    "except:\n",
    "    print('Назва файлу не допустима')"
   ]
  },
  {
   "cell_type": "code",
   "execution_count": 33,
   "metadata": {},
   "outputs": [],
   "source": [
    "N, K = 5, 4\n",
    "\n",
    "with open('file.txt', 'w') as f:\n",
    "    for _ in range(N):\n",
    "        f.write('*'*K + '\\n')\n",
    "    "
   ]
  },
  {
   "cell_type": "code",
   "execution_count": 36,
   "metadata": {
    "scrolled": true
   },
   "outputs": [
    {
     "name": "stdout",
     "output_type": "stream",
     "text": [
      "['****\\n', '****\\n', '****\\n', '****\\n', '****\\n']\n"
     ]
    }
   ],
   "source": [
    "with open('file.txt', 'w') as f:\n",
    "    l = []\n",
    "    for _ in range(N):\n",
    "        l.append('*'*K + '\\n')\n",
    "    print(l)\n",
    "    \n",
    "    f.writelines(l)"
   ]
  },
  {
   "cell_type": "code",
   "execution_count": 37,
   "metadata": {},
   "outputs": [],
   "source": [
    "f = open('file.txt')\n",
    "l = f.readlines()\n",
    "f.close()\n",
    "\n",
    "del l[0]\n",
    "\n",
    "f = open('file.txt', 'w')\n",
    "f.writelines(l)\n",
    "f.close()"
   ]
  },
  {
   "cell_type": "code",
   "execution_count": 39,
   "metadata": {},
   "outputs": [],
   "source": [
    "f = open('file.txt', 'r+')\n",
    "l = f.readlines()\n",
    "\n",
    "\n",
    "del l[0]\n",
    "f.seek(0)\n",
    "# f = open('file.txt', 'w')\n",
    "f.writelines(l)\n",
    "f.close()"
   ]
  },
  {
   "cell_type": "code",
   "execution_count": 49,
   "metadata": {},
   "outputs": [
    {
     "data": {
      "text/plain": [
       "{'B81410': ['Антифриз BIZOL G11 синий (концентрант) 1л', 'В наличии', 183.0],\n",
       " 'B81411': ['Антифриз BIZOL G11 синий (концентрант) 5л', 'В наличии', 757.0],\n",
       " 'B81430': ['Антифриз BIZOL G12+ красный (концентрант) 1л',\n",
       "  'В наличии',\n",
       "  192.0],\n",
       " 'B81431': ['Антифриз BIZOL G12+ красный (концентрант) 5л',\n",
       "  'В наличии',\n",
       "  798.0],\n",
       " 'CS RADICOOL SF 1L': ['Антифриз Castrol RADICOOL G12+ красный (концентрант) 1 л',\n",
       "  'В наличии',\n",
       "  189.0],\n",
       " '2374': ['Антифриз FEBI G11 желтый (концентрант) 1.5 л', 'В наличии', 216.0],\n",
       " '1089': ['Антифриз FEBI G11 синий (концентрант) 1.5 л', 'В наличии', 175.0],\n",
       " '1381': ['Антифриз FEBI G12 красный (концентрант) 1.5 л', 'В наличии', 190.0],\n",
       " '19400': ['Антифриз FEBI G12+ фиолетовый (концентрат) 1.5 л',\n",
       "  'В наличии',\n",
       "  197.0]}"
      ]
     },
     "execution_count": 49,
     "metadata": {},
     "output_type": "execute_result"
    }
   ],
   "source": [
    "first_row = True\n",
    "\n",
    "db = {}\n",
    "\n",
    "for string in open('file.txt', encoding='UTF-8'):\n",
    "    if first_row == False:\n",
    "        tmp = string.split('|')\n",
    "        db[tmp[0]] = tmp[1:-1] + [float(tmp[-1].rstrip(' грн\\n'))]\n",
    "    else:\n",
    "        first_row = False\n",
    "        \n",
    "db"
   ]
  },
  {
   "cell_type": "code",
   "execution_count": null,
   "metadata": {},
   "outputs": [],
   "source": []
  }
 ],
 "metadata": {
  "kernelspec": {
   "display_name": "Python 3",
   "language": "python",
   "name": "python3"
  },
  "language_info": {
   "codemirror_mode": {
    "name": "ipython",
    "version": 3
   },
   "file_extension": ".py",
   "mimetype": "text/x-python",
   "name": "python",
   "nbconvert_exporter": "python",
   "pygments_lexer": "ipython3",
   "version": "3.7.6"
  }
 },
 "nbformat": 4,
 "nbformat_minor": 4
}
