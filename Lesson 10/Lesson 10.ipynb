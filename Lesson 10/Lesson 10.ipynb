{
 "cells": [
  {
   "cell_type": "code",
   "execution_count": 12,
   "metadata": {},
   "outputs": [],
   "source": [
    "HEADERS = {\n",
    "            'User-Agent': 'Mozilla/5.0 (Windows NT 6.1; WOW64; rv:49.0) Gecko/20100101 Firefox/49.0',\n",
    "            'Accept': 'text/html,application/xhtml+xml,application/xml;q=0.9,*/*;q=0.8',\n",
    "            'Accept-Language': 'en-US,en;q=0.5',\n",
    "            'Accept-Encoding': 'gzip, deflate',\n",
    "            'DNT': '1',\n",
    "            'Connection': 'keep-alive',\n",
    "            'Upgrade-Insecure-Requests': '1'\n",
    "        }\n",
    "\n",
    "# https://www.crummy.com/software/BeautifulSoup/bs4/doc.ru/bs4ru.html"
   ]
  },
  {
   "cell_type": "markdown",
   "metadata": {},
   "source": [
    "#### Завдання\n",
    "http://old.code.mu/exercises/css/praktika-po-sozdaniyu-odnokolonochnyh-maketov-sajtov/6/1.html"
   ]
  },
  {
   "cell_type": "code",
   "execution_count": 26,
   "metadata": {},
   "outputs": [
    {
     "name": "stdout",
     "output_type": "stream",
     "text": [
      "<a href=\"\">Nulla pharetra</a>\n",
      "<a href=\"\">Lorem tristique dolor</a>\n"
     ]
    }
   ],
   "source": [
    "import requests\n",
    "from bs4 import BeautifulSoup\n",
    "\n",
    "SITE = 'http://old.code.mu/exercises/css/praktika-po-sozdaniyu-odnokolonochnyh-maketov-sajtov/6/1.html'\n",
    "\n",
    "r = requests.get(SITE, headers=HEADERS)\n",
    "\n",
    "if r.status_code == 200:\n",
    "    soup = BeautifulSoup(r.text, 'lxml') \n",
    "    for el in soup.find_all('h2'):\n",
    "        print(el.find('a'))"
   ]
  },
  {
   "cell_type": "markdown",
   "metadata": {},
   "source": [
    "#### Завдання\n",
    "'https://www.google.com/search?q=ексалатор'\n"
   ]
  },
  {
   "cell_type": "code",
   "execution_count": 43,
   "metadata": {},
   "outputs": [
    {
     "name": "stdout",
     "output_type": "stream",
     "text": [
      "Слово гелікоптер написане не правильно. Потрібно: Уперед >\n",
      "Слово ймовірнність написане не правильно. Потрібно: ймовірність\n",
      "Слово програмн написане не правильно. Потрібно: Уперед >\n",
      "Слово баннальність написане правильно\n",
      "Слово бонан написане не правильно. Потрібно: банан\n",
      "Слово компутер написане не правильно. Потрібно: комп'ютер\n"
     ]
    }
   ],
   "source": [
    "list_with_words = ['гелікоптер', 'ймовірнність', 'програмн', 'баннальність', 'бонан', 'компутер']\n",
    "\n",
    "import requests\n",
    "from bs4 import BeautifulSoup\n",
    "\n",
    "SITE = 'https://www.google.com/search'\n",
    "\n",
    "for word in list_with_words:\n",
    "    r = requests.get(SITE, headers = HEADERS, params={'q' : word})\n",
    "    if r.status_code == 200:\n",
    "\n",
    "        soup = BeautifulSoup(r.text, 'lxml')\n",
    "        block = soup.find('div', class_='BmP5tf')\n",
    "       \n",
    "        if  block == None:\n",
    "            print(f'Слово {word} написане правильно')\n",
    "        else:\n",
    "            correct_word = block.a.text\n",
    "            print(f'Слово {word} написане не правильно. Потрібно: {correct_word}')"
   ]
  },
  {
   "cell_type": "markdown",
   "metadata": {},
   "source": [
    "#### Завдання \n",
    "Витягуємо анкети https://love.i.ua/search/?s=1&look=2&_subm=sform"
   ]
  },
  {
   "cell_type": "code",
   "execution_count": 69,
   "metadata": {},
   "outputs": [
    {
     "data": {
      "text/plain": [
       "{'//os1.i.ua/3/8/15747582_a984cfe9_5ecb6815.jpg': ['Тетяна', 55],\n",
       " '//os1.i.ua/3/8/13728944_6adbe98_5ba3686d.jpg': ['ДЕЛЬФИНА', 44],\n",
       " '//os1.i.ua/3/8/13267305_a710f1c7_5ab538b1.jpg': ['Людмила', 47],\n",
       " '//os1.i.ua/3/8/15888928_f515c4aa_60198eba.jpg': ['Оксана', 43],\n",
       " '//os1.i.ua/3/8/15816364_1d927abf_5f69f3da.jpg': ['Natali', 66],\n",
       " '//os1.i.ua/3/8/15871527_14b7a3b0_601026e5.jpg': ['Нина', 58],\n",
       " '//os1.i.ua/3/8/15918439_bc16425_6065c429.jpg': ['LINA', 35],\n",
       " '//os1.i.ua/3/8/15592082_d36a92f5_6043c6db.jpg': ['МАРИЯ', 50],\n",
       " '//os1.i.ua/3/8/15885638_2dc35715_60155ebf.jpg': ['Надежда', 40],\n",
       " '//os1.i.ua/3/8/14770282_5e766b8_5da0149c.jpg': ['Людмила', 53]}"
      ]
     },
     "execution_count": 69,
     "metadata": {},
     "output_type": "execute_result"
    }
   ],
   "source": [
    "import requests\n",
    "from bs4 import BeautifulSoup\n",
    "\n",
    "BASE = {}\n",
    "\n",
    "SITE = 'https://love.i.ua/search/?s=1&look=2&_subm=sform'\n",
    "\n",
    "for i in range(1):\n",
    "    r = requests.get(SITE, headers = HEADERS, params={'p' : i})\n",
    "\n",
    "    soup = BeautifulSoup(r.text, 'lxml')\n",
    "\n",
    "    for el in soup.find('ul', class_='list_cols_2 clear').find_all('li'):\n",
    "        img = el.img.get('src')\n",
    "        name = el.find('a', class_='girl').text\n",
    "        age = int(el.find_all('p')[3].b.text.split()[0])\n",
    "        BASE[img] = [name, age]\n",
    "    \n",
    "    \n",
    "BASE\n",
    "\n",
    "# перерва до 20:19"
   ]
  },
  {
   "cell_type": "code",
   "execution_count": 78,
   "metadata": {},
   "outputs": [],
   "source": [
    "i = 1\n",
    "for link in BASE:\n",
    "    \n",
    "    r = requests.get('http:'+link)\n",
    "    if r.status_code == 200:\n",
    "        file_name = f'photo{i}.jpeg'\n",
    "        with open(file_name, 'wb') as f:\n",
    "            f.write(r.content)\n",
    "            \n",
    "    i+=1\n",
    "        "
   ]
  },
  {
   "cell_type": "markdown",
   "metadata": {},
   "source": [
    "#### Завдання \n",
    "Витягуємо фільми https://sweet.tv/movies/multfilmi"
   ]
  },
  {
   "cell_type": "code",
   "execution_count": 132,
   "metadata": {},
   "outputs": [
    {
     "data": {
      "text/plain": [
       "{'Уперед': ['https://sweet.tv/movie/19076-upered'],\n",
       " 'Щенячий патруль': ['https://sweet.tv/movie/7800-shchenyachiy-patrul'],\n",
       " 'Крижане серце 2': ['https://sweet.tv/movie/20938-krizhane-serce-2'],\n",
       " 'Лелеки': ['https://sweet.tv/movie/13351-leleki'],\n",
       " 'Том і Джеррі: Історія про Лускунчика': ['https://sweet.tv/movie/20911-tom-i-dzherri-istoriya-pro-luskunchika'],\n",
       " 'Велика риба та яблуня': ['https://sweet.tv/movie/17007-velika-riba-ta-yablunya'],\n",
       " 'Пісня моря': ['https://sweet.tv/movie/11239-pisnya-morya'],\n",
       " 'Тарзан': ['https://sweet.tv/movie/7233-tarzan'],\n",
       " 'Монстр у Парижі': ['https://sweet.tv/movie/6875-monstr-u-parizhi'],\n",
       " 'Рятівники': ['https://sweet.tv/movie/20893-ryativniki'],\n",
       " 'Маленький принц': ['https://sweet.tv/movie/7336-malenkiy-princ'],\n",
       " 'Робінзон Крузо: Дуже заселений острів': ['https://sweet.tv/movie/7360-robinzon-kruzo-duzhe-zaseleniy-ostriv'],\n",
       " 'Це Поні': ['https://sweet.tv/movie/21160-ce-poni'],\n",
       " 'Робокар Полі': ['https://sweet.tv/movie/7773-robokar-poli'],\n",
       " 'Касагранде': ['https://sweet.tv/movie/21153-kasagrande'],\n",
       " 'Рюкзак Оллі': ['https://sweet.tv/movie/21158-ryukzak-olli'],\n",
       " 'Черепашки-ніндзя': ['https://sweet.tv/movie/7801-cherepashki-nindzya'],\n",
       " 'Елвіннн !!! та бурундуки': ['https://sweet.tv/movie/12525-elvinnn-ta-burunduki'],\n",
       " 'Стен і Олівія': ['https://sweet.tv/movie/21163-sten-i-oliviya'],\n",
       " 'Влог Барбі': ['https://sweet.tv/movie/21162-vlog-barbi'],\n",
       " 'Чупі йде в школу': ['https://sweet.tv/movie/21152-chupi-yde-v-shkolu'],\n",
       " 'Моланг': ['https://sweet.tv/movie/17061-molang'],\n",
       " 'Тіма і Тома': ['https://sweet.tv/movie/21149-tima-i-toma'],\n",
       " 'Сестри': ['https://sweet.tv/movie/21151-sestri'],\n",
       " 'Бунтарки': ['https://sweet.tv/movie/21150-buntarki'],\n",
       " \"Незвичайна Сім'я\": ['https://sweet.tv/movie/21148-nezvichayna-sim-ya'],\n",
       " 'Енчантімалс': ['https://sweet.tv/movie/21147-enchantimals'],\n",
       " 'Зіг і Шарко': ['https://sweet.tv/movie/17518-zig-i-sharko'],\n",
       " 'Скубі-Ду при дворі Короля Артура': ['https://sweet.tv/movie/21070-skubi-du-pri-dvori-korolya-artura'],\n",
       " 'Повернення гномів': ['https://sweet.tv/movie/20777-povernennya-gnomiv']}"
      ]
     },
     "execution_count": 132,
     "metadata": {},
     "output_type": "execute_result"
    }
   ],
   "source": [
    "import requests\n",
    "from bs4 import BeautifulSoup\n",
    "\n",
    "BASE = {}\n",
    "\n",
    "SITE = 'https://sweet.tv/movies/multfilmi'\n",
    "\n",
    "r = requests.get(SITE, headers = HEADERS)\n",
    "\n",
    "if r.status_code == 200:\n",
    "    soup = BeautifulSoup(r.text, 'lxml')\n",
    "    for el in soup.find('ul', class_ = 'films-container upsc').find_all('li'):\n",
    "        name = el.h4.text\n",
    "        link = el.find('a').get('href')\n",
    "        tmp = [link]\n",
    "        BASE[name] = tmp\n",
    "        \n",
    "BASE       "
   ]
  },
  {
   "cell_type": "code",
   "execution_count": 133,
   "metadata": {},
   "outputs": [],
   "source": [
    "for k in BASE:\n",
    "    r = requests.get(BASE[k][0], headers=HEADERS)\n",
    "    if r.status_code == 200:\n",
    "        soup = BeautifulSoup(r.text, 'lxml')\n",
    "        block = soup.find('div', class_='film-about--text')\n",
    "        \n",
    "        \n",
    "        year = block.span.text\n",
    "        \n",
    "        country = block.find('a').text\n",
    "        genre = block.find('a', itemprop=\"genre\").text\n",
    "        \n",
    "        try:\n",
    "            director = block.find('span', itemprop=\"director\").text\n",
    "            actors = [actor.text for actor in block.find('p', itemprop=\"actors\").find_all('a')]\n",
    "            rate = block.find('span', class_ = 'ratingIconImdb').parent.find_all('span')[1].text\n",
    "        except:\n",
    "            director = None\n",
    "            actors = None\n",
    "            rate = None \n",
    "            \n",
    "        info = {'year': year,\n",
    "               'rate' : rate,\n",
    "               'country' : country,\n",
    "               'genre' : genre,\n",
    "               'director' : director,\n",
    "               'actors' : actors}\n",
    "        \n",
    "        BASE[k].append(info)\n",
    "        \n",
    "    \n",
    "    "
   ]
  },
  {
   "cell_type": "code",
   "execution_count": 134,
   "metadata": {},
   "outputs": [
    {
     "name": "stdout",
     "output_type": "stream",
     "text": [
      "Уперед ['https://sweet.tv/movie/19076-upered', {'year': '2020', 'rate': '7.4', 'country': 'США', 'genre': 'Дитячі', 'director': 'Ден Скенлон', 'actors': ['Том Голланд', 'Кріс Пратт', 'Октавія Спенсер', 'Джулія Луїс-Дрейфус']}]\n",
      "###########\n",
      "Щенячий патруль ['https://sweet.tv/movie/7800-shchenyachiy-patrul', {'year': '2013', 'rate': '6.2', 'country': 'Канада', 'genre': 'Дитячі', 'director': 'Джеймі Уітні', 'actors': ['Деван Коен', 'Дрю Девіс', 'Рон Пардо', 'Крістіан Дістефано', 'Каллан Холлі', 'Елайха Хаммілл', 'Алекс Торн', 'Макс Калінеску', 'Італо Луїс', 'Габріела Мілані']}]\n",
      "###########\n",
      "Крижане серце 2 ['https://sweet.tv/movie/20938-krizhane-serce-2', {'year': '2019', 'rate': '6.9', 'country': 'США', 'genre': 'Дитячі', 'director': 'Дженніфер Лі', 'actors': ['Крістен Белл', 'Ідіна Мензел', 'Джош Ґад', 'Джонатан Ґрофф', 'Стерлінг К. Браун', 'Еван Рейчел Вуд', 'Альфредо Моліна', 'Джейсон Ріттер', 'Джеремі Систо', 'Кіран Хайндс', 'Алан Тьюдік', 'Філ Ламарр', 'Девід Кауджилл', 'Грей Деліс-Гріффін', 'Фредерік Татасіоре', 'Джесіка ДіЧико', 'Террі Дуглас', 'Джордж Беббіт']}]\n",
      "###########\n",
      "Лелеки ['https://sweet.tv/movie/13351-leleki', {'year': '2016', 'rate': '6.8', 'country': 'США', 'genre': 'Дитячі', 'director': 'Нік Столлер', 'actors': ['Енді Семберг', 'Кеті Краун', 'Кайлі Граммер', 'Дженіфер Еністон', 'Тай Буррелл']}]\n",
      "###########\n",
      "Том і Джеррі: Історія про Лускунчика ['https://sweet.tv/movie/20911-tom-i-dzherri-istoriya-pro-luskunchika', {'year': '2020', 'rate': '6.4', 'country': 'США', 'genre': 'Дитячі', 'director': 'Спайк Брандт', 'actors': ['Кетлін Барр', 'Ян Джеймс Корлетт', 'Тревор Девалл', 'Тара Стронг']}]\n",
      "###########\n",
      "Велика риба та яблуня ['https://sweet.tv/movie/17007-velika-riba-ta-yablunya', {'year': '2016', 'rate': '7.1', 'country': 'Китай', 'genre': 'Пригоди', 'director': 'Лян Сюань', 'actors': ['Цзи Гуаньлинь', 'Пань Шулань', 'Су Шанцін', 'Сюй Вейчжоу', 'Цзинь Шицзя']}]\n",
      "###########\n",
      "Пісня моря ['https://sweet.tv/movie/11239-pisnya-morya', {'year': '2014', 'rate': '8.1', 'country': 'Бельгія', 'genre': 'Дитячі', 'director': 'Том Мур', 'actors': ['Фінола Фленаган', 'Ліза Хенніген', 'Девід Роул', 'Брендан Глісон', \"Люсі О'Коннелл\"]}]\n",
      "###########\n",
      "Тарзан ['https://sweet.tv/movie/7233-tarzan', {'year': '2013', 'rate': '4.8', 'country': 'Німеччина', 'genre': 'Дитячі', 'director': 'Рейнхард Клосс', 'actors': ['Келлан Лутц', 'Брайан Блум', 'Спенсер Локк', 'Хайме Рей Ньюман', 'Брайан Хаскі', 'Тревор Маршалл Сент-Джон', 'Роберт Капрон', 'знак зниження', 'Les Bubb', 'Джонатан Морган Гарячий', 'Джо Осмонд']}]\n",
      "###########\n",
      "Монстр у Парижі ['https://sweet.tv/movie/6875-monstr-u-parizhi', {'year': '2010', 'rate': '6.7', 'country': 'Франція', 'genre': 'Дитячі', 'director': 'Бібо Бержерон', 'actors': ['Ванесса Параді', 'Боб Белабан', 'Гад Елмалех', 'Франсуа Клузет', 'Людівін Саньє', 'Джулі Феррієр', 'Бруно Саломон', \"Філіп Пейт'є\", 'Матьє Шедід']}]\n",
      "###########\n",
      "Рятівники ['https://sweet.tv/movie/20893-ryativniki', {'year': '2017', 'rate': '5.8', 'country': 'Китай', 'genre': 'Пригоди', 'director': 'Шень Юй', 'actors': ['Янь Лічжень', 'Лі Янг-Янг']}]\n",
      "###########\n",
      "Маленький принц ['https://sweet.tv/movie/7336-malenkiy-princ', {'year': '2015', 'rate': '7.7', 'country': 'Франція', 'genre': 'Дитячі', 'director': 'Марк Осборн', 'actors': ['Джефф Бріджес', 'Кензі', 'Рейчел МакАдамс', 'Маріон Котіяр', 'Джеймс Франко', 'Рікі Джервейс', 'Пол Радд', 'Бенісіо Дель Торо', 'Пол Джаматті', 'Вінсент Кассель']}]\n",
      "###########\n",
      "Робінзон Крузо: Дуже заселений острів ['https://sweet.tv/movie/7360-robinzon-kruzo-duzhe-zaseleniy-ostriv', {'year': '2016', 'rate': '5.4', 'country': 'Бельгія', 'genre': 'Дитячі', 'director': 'Бен Стасен', 'actors': ['Ілька Бессін', 'Дітер Холерворден', 'Маттіас Швайгеефер', 'Айлін Тецель', 'Кая Янар']}]\n",
      "###########\n",
      "Це Поні ['https://sweet.tv/movie/21160-ce-poni', {'year': '2020', 'rate': None, 'country': 'Великобританія', 'genre': 'Дитячі', 'director': None, 'actors': None}]\n",
      "###########\n",
      "Робокар Полі ['https://sweet.tv/movie/7773-robokar-poli', {'year': '2011', 'rate': None, 'country': 'Південна Корея', 'genre': 'Дитячі', 'director': None, 'actors': None}]\n",
      "###########\n",
      "Касагранде ['https://sweet.tv/movie/21153-kasagrande', {'year': '2019', 'rate': None, 'country': 'Іспанія', 'genre': 'Дитячі', 'director': None, 'actors': None}]\n",
      "###########\n",
      "Рюкзак Оллі ['https://sweet.tv/movie/21158-ryukzak-olli', {'year': '2020', 'rate': None, 'country': 'Бразилія', 'genre': 'Дитячі', 'director': None, 'actors': None}]\n",
      "###########\n",
      "Черепашки-ніндзя ['https://sweet.tv/movie/7801-cherepashki-nindzya', {'year': '2012', 'rate': '7.8', 'country': 'США', 'genre': 'Дитячі', 'director': 'Алан Ван', 'actors': ['Джейсон Меттью Біггс', 'Роб Полсен', 'Кевін Річардсон', 'Шон Астін', 'Григорій Майкл Сіпес', 'Сет Грін', 'Мей Уітмен', 'Нолан Північ', 'Джош Пек', 'Jae Hee']}]\n",
      "###########\n",
      "Елвіннн !!! та бурундуки ['https://sweet.tv/movie/12525-elvinnn-ta-burunduki', {'year': '2015', 'rate': None, 'country': 'США', 'genre': 'Дитячі', 'director': None, 'actors': None}]\n",
      "###########\n",
      "Стен і Олівія ['https://sweet.tv/movie/21163-sten-i-oliviya', {'year': '2018', 'rate': None, 'country': 'Франція', 'genre': 'Пригоди', 'director': None, 'actors': None}]\n",
      "###########\n",
      "Влог Барбі ['https://sweet.tv/movie/21162-vlog-barbi', {'year': '2015', 'rate': None, 'country': 'США', 'genre': 'Дитячі', 'director': None, 'actors': None}]\n",
      "###########\n",
      "Чупі йде в школу ['https://sweet.tv/movie/21152-chupi-yde-v-shkolu', {'year': '2013', 'rate': None, 'country': 'Франція', 'genre': 'Дитячі', 'director': None, 'actors': None}]\n",
      "###########\n",
      "Моланг ['https://sweet.tv/movie/17061-molang', {'year': '2015', 'rate': None, 'country': 'Великобританія', 'genre': 'Комедії', 'director': None, 'actors': None}]\n",
      "###########\n",
      "Тіма і Тома ['https://sweet.tv/movie/21149-tima-i-toma', {'year': '2015', 'rate': None, 'country': 'Росія', 'genre': 'Комедії', 'director': None, 'actors': None}]\n",
      "###########\n",
      "Сестри ['https://sweet.tv/movie/21151-sestri', {'year': '2017', 'rate': None, 'country': 'Франція', 'genre': 'Дитячі', 'director': None, 'actors': None}]\n",
      "###########\n",
      "Бунтарки ['https://sweet.tv/movie/21150-buntarki', {'year': '2020', 'rate': '4.8', 'country': 'Франція', 'genre': 'Дитячі', 'director': 'Шарлотта Камбон', 'actors': ['Сесиль Де Франс']}]\n",
      "###########\n",
      "Незвичайна Сім'я ['https://sweet.tv/movie/21148-nezvichayna-sim-ya', {'year': '2019', 'rate': None, 'country': 'Франція', 'genre': 'Дитячі', 'director': None, 'actors': None}]\n",
      "###########\n",
      "Енчантімалс ['https://sweet.tv/movie/21147-enchantimals', {'year': '2018', 'rate': None, 'country': 'США', 'genre': 'Дитячі', 'director': None, 'actors': None}]\n",
      "###########\n",
      "Зіг і Шарко ['https://sweet.tv/movie/17518-zig-i-sharko', {'year': '2010', 'rate': None, 'country': 'Франція', 'genre': 'Дитячі', 'director': None, 'actors': None}]\n",
      "###########\n",
      "Скубі-Ду при дворі Короля Артура ['https://sweet.tv/movie/21070-skubi-du-pri-dvori-korolya-artura', {'year': '2021', 'rate': None, 'country': 'США', 'genre': 'Пригоди', 'director': None, 'actors': None}]\n",
      "###########\n",
      "Повернення гномів ['https://sweet.tv/movie/20777-povernennya-gnomiv', {'year': '2020', 'rate': '6.1', 'country': 'Німеччина', 'genre': 'Пригоди', 'director': 'Уте фон Мюнхен-Поль', 'actors': ['Єла Хаазе', 'Луїс Хофманн', 'Леон Зейдель']}]\n",
      "###########\n"
     ]
    }
   ],
   "source": [
    "for i, k in BASE.items():\n",
    "    print(i, k)\n",
    "    print('###########')"
   ]
  },
  {
   "cell_type": "code",
   "execution_count": null,
   "metadata": {},
   "outputs": [],
   "source": []
  }
 ],
 "metadata": {
  "kernelspec": {
   "display_name": "Python 3",
   "language": "python",
   "name": "python3"
  },
  "language_info": {
   "codemirror_mode": {
    "name": "ipython",
    "version": 3
   },
   "file_extension": ".py",
   "mimetype": "text/x-python",
   "name": "python",
   "nbconvert_exporter": "python",
   "pygments_lexer": "ipython3",
   "version": "3.7.6"
  }
 },
 "nbformat": 4,
 "nbformat_minor": 4
}
